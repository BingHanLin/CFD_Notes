{
 "cells": [
  {
   "cell_type": "markdown",
   "metadata": {
    "colab_type": "text",
    "id": "SPVcyIqjhF41"
   },
   "source": [
    "# Numerical Solutions to PDEs (one dimension)"
   ]
  },
  {
   "cell_type": "code",
   "execution_count": 1,
   "metadata": {},
   "outputs": [],
   "source": [
    "## Importing library"
   ]
  },
  {
   "cell_type": "code",
   "execution_count": 2,
   "metadata": {
    "colab": {},
    "colab_type": "code",
    "id": "3pIJ7pirsM-X"
   },
   "outputs": [],
   "source": [
    "using Printf\n",
    "using DelimitedFiles"
   ]
  },
  {
   "cell_type": "markdown",
   "metadata": {
    "colab_type": "text",
    "id": "z3MOL4Z3TMlq"
   },
   "source": [
    "## Configuration data struct"
   ]
  },
  {
   "cell_type": "code",
   "execution_count": 3,
   "metadata": {
    "colab": {},
    "colab_type": "code",
    "id": "gvxpa95evNI0"
   },
   "outputs": [
    {
     "data": {
      "text/plain": [
       "SHOW_CONFIG (generic function with 1 method)"
      ]
     },
     "execution_count": 3,
     "metadata": {},
     "output_type": "execute_result"
    }
   ],
   "source": [
    "@enum InterpolationType UPWIND LINEAR QUICK\n",
    "\n",
    "struct CaseConfig\n",
    "    MIN_X::Float64\n",
    "    MAX_X::Float64\n",
    "    NUM_X_CELLS::Int64\n",
    "    NUM_GHOST_CELLS::Int64\n",
    "    NUM_TIME_STEPS::Int64\n",
    "    TIME_STEPS_SIZE::Float64\n",
    "\n",
    "    NUM_RK_STEPS::Int64\n",
    "    VAR_INTERPOLATION_TYPE::InterpolationType\n",
    "\n",
    "    ADVECTION_VEL::Float64\n",
    "\n",
    "end\n",
    "\n",
    "function SHOW_CONFIG(config::CaseConfig)\n",
    "    println(\"MIN_X: \",config.MIN_X, \", MAX_X: \",config.MAX_X,\n",
    "            \",\\nNUM_X_CELLS: \", config.NUM_X_CELLS, \", NUM_GHOST_CELLS: \", config.NUM_GHOST_CELLS,\n",
    "            \",\\nNUM_RK_STEPS: \", config.NUM_RK_STEPS, \", NUM_TIME_STEPS: \", config.NUM_TIME_STEPS,\n",
    "            \",\\nTIME_STEPS_SIZE: \", config.TIME_STEPS_SIZE, \", ADVECTION_VEL: \", config.ADVECTION_VEL)\n",
    "end"
   ]
  },
  {
   "cell_type": "markdown",
   "metadata": {},
   "source": [
    "## Cell data struct / Mesh data struct "
   ]
  },
  {
   "cell_type": "code",
   "execution_count": 7,
   "metadata": {},
   "outputs": [],
   "source": [
    "mutable struct Cell\n",
    "    # 1 dimensional uniform cell data\n",
    "    CENTER_POS::Float64\n",
    "    WEST_FACE_POS::Float64\n",
    "    EAST_FACE_POS::Float64\n",
    "\n",
    "    CELL_SIZE::Float64\n",
    "    CELL_VAR::Array{Float64,1}\n",
    "\n",
    "    WEST_FACE_VAR::Float64\n",
    "    EAST_FACE_VAR::Float64\n",
    "\n",
    "    WEST_FACE_UNITNORM::Float64\n",
    "    EAST_FACE_UNITNORM::Float64\n",
    "\n",
    "    CELL_FLUX::Array{Float64,1}\n",
    "    \n",
    "    function Cell(config::CaseConfig, idx::Int64)\n",
    "        this = new()\n",
    "    \n",
    "        dx = (config.MAX_X - config.MIN_X) / config.NUM_X_CELLS\n",
    "        this.CELL_SIZE = dx\n",
    "    \n",
    "        this.CELL_VAR = zeros(config.NUM_RK_STEPS+1)\n",
    "        this.CELL_FLUX = zeros(config.NUM_RK_STEPS)\n",
    "    \n",
    "        this.CENTER_POS = config.MIN_X + dx*(idx - 0.5 - config.NUM_GHOST_CELLS)\n",
    "        this.WEST_FACE_POS = this.CENTER_POS - 0.5*this.CELL_SIZE\n",
    "        this.EAST_FACE_POS = this.CENTER_POS + 0.5*this.CELL_SIZE\n",
    "    \n",
    "        this.WEST_FACE_UNITNORM = -1.0\n",
    "        this.EAST_FACE_UNITNORM = 1.0\n",
    "    \n",
    "        return this\n",
    "    end\n",
    "    \n",
    "end\n",
    "\n",
    "\n",
    "mutable struct Mesh\n",
    "    # 1 dimensional mesh data\n",
    "    NUM_CELLS::Int64\n",
    "    CELL::Array{Cell,1}\n",
    "\n",
    "    function Mesh(config::CaseConfig)\n",
    "        this = new()\n",
    "        \n",
    "        this.NUM_CELLS = config.NUM_X_CELLS + config.NUM_GHOST_CELLS*2\n",
    "\n",
    "        this.CELL = Array{Cell,1}(undef, 0)\n",
    "\n",
    "        for idx = 1 : this.NUM_CELLS\n",
    "            push!( this.CELL, Cell(config, idx) )\n",
    "        end\n",
    "        return this\n",
    "    end\n",
    "end"
   ]
  },
  {
   "cell_type": "markdown",
   "metadata": {},
   "source": [
    "## Initializer struct"
   ]
  }
 ],
 "metadata": {
  "colab": {
   "collapsed_sections": [
    "q9KTpQXc-KK4",
    "7tvLba2d_jjz",
    "TWdlnJPPRO10",
    "dQ9nYOYkDswq",
    "TO4tg8kVT97Q",
    "FSF1eg7XUH2z",
    "6bSZvi2rV2bb",
    "b_RdfyB8ifxb"
   ],
   "name": "“Numerical Solutions of Partial Differential Equations.ipynb”的副本",
   "provenance": [
    {
     "file_id": "1lIJ6guEAH5NQObefYBJ7S_Jm21IlJSOo",
     "timestamp": 1557230572428
    }
   ],
   "version": "0.3.2"
  },
  "kernelspec": {
   "display_name": "Julia 1.0.0",
   "language": "julia",
   "name": "julia-1.0"
  },
  "language_info": {
   "file_extension": ".jl",
   "mimetype": "application/julia",
   "name": "julia",
   "version": "1.0.0"
  }
 },
 "nbformat": 4,
 "nbformat_minor": 2
}
