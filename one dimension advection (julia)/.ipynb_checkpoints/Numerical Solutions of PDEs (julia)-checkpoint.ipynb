{
 "cells": [
  {
   "cell_type": "markdown",
   "metadata": {},
   "source": [
    "https://projects.skill-lync.com/projects/FVM-schemes-49852\n",
    "https://floringh.gitbooks.io/computational-fluid-dynamics/1dLinearConvection.html"
   ]
  },
  {
   "cell_type": "markdown",
   "metadata": {
    "colab_type": "text",
    "id": "SPVcyIqjhF41"
   },
   "source": [
    "# Numerical Solutions to PDEs (one dimension)"
   ]
  },
  {
   "cell_type": "markdown",
   "metadata": {},
   "source": [
    "# Finite Volume Method "
   ]
  },
  {
   "cell_type": "markdown",
   "metadata": {
    "colab_type": "text",
    "id": "JZ7deUdAr13Z"
   },
   "source": [
    "## Convection–diffusion equation\n",
    "\n",
    "$$ \\pdiff{\\phi}{t} = -\\nabla\\cdot(\\mathbf{u}\\phi) +\\nabla\\cdot(D\\nabla\\phi)+R $$\n",
    "\n",
    "where $\\phi$is the variable of interest. $\\mathbf{u}$  is the velocity field that the quantity $\\phi$ is moving with. $D$ is the diffusivity. $R$ describes sources or sinks of the quantity.\n"
   ]
  },
  {
   "cell_type": "markdown",
   "metadata": {
    "colab_type": "text",
    "id": "JZ7deUdAr13Z"
   },
   "source": [
    "## 1D Linear Convection\n",
    "\n",
    "From the **convection–diffusion equation** we kept only the accumulation and convection terms. To make things simpler, consider the velocity $\\mathbf{u}$ of the convection terms is constant. The 1D linear convection equation is written as follows\n",
    "\n",
    "\n",
    "$$ \\pdiff{\\phi}{t} = -c\\pdiff{\\phi}{x} $$\n",
    "\n",
    "where $\\phi$ is a function of $x$ and $t$ while $c$ is the constant velocity.\n",
    "\n",
    "It can be proven that if the initial condition is $\\phi(x, 0) = \\phi_0(x)$, then the exact solution is $\\phi(x, t) = \\phi_0(x - ct)$."
   ]
  },
  {
   "cell_type": "markdown",
   "metadata": {},
   "source": [
    "## Gradient Scheme"
   ]
  },
  {
   "cell_type": "markdown",
   "metadata": {},
   "source": [
    "The gradient schemes are used to calculate **the variable gradient on the face**. We use variable from neighbouring control volume and numerically evaluate the variable gradient."
   ]
  },
  {
   "cell_type": "markdown",
   "metadata": {},
   "source": [
    "## Interpolation Scheme"
   ]
  },
  {
   "cell_type": "markdown",
   "metadata": {},
   "source": [
    "https://projects.skill-lync.com/projects/FVM-Interpolation-Scheme-and-flux-limiter-65325"
   ]
  },
  {
   "cell_type": "markdown",
   "metadata": {},
   "source": [
    "https://projects.skill-lync.com/projects/FVM-Interpolation-and-Gradient-Schemes-literature-review-26860"
   ]
  },
  {
   "cell_type": "markdown",
   "metadata": {},
   "source": [
    "Evaluation of surface and volume integral usually required the value of variable at location other than the computational node of control volume. To obtain the unkown value at these loations, we need to apply interpolation schemes."
   ]
  },
  {
   "cell_type": "markdown",
   "metadata": {},
   "source": [
    "### a. Upwind Difference Scheme"
   ]
  },
  {
   "cell_type": "markdown",
   "metadata": {},
   "source": [
    "### b. Central Difference Scheme"
   ]
  },
  {
   "cell_type": "markdown",
   "metadata": {},
   "source": [
    "### c. Quadratic Upstream Interpolation Scheme (QUICK)"
   ]
  },
  {
   "cell_type": "markdown",
   "metadata": {},
   "source": [
    "## Flux Limiter"
   ]
  },
  {
   "cell_type": "markdown",
   "metadata": {},
   "source": [
    "Total Variation Diminishing Scheme"
   ]
  },
  {
   "cell_type": "markdown",
   "metadata": {},
   "source": [
    "## Julia code"
   ]
  },
  {
   "cell_type": "markdown",
   "metadata": {},
   "source": [
    "### Importing library"
   ]
  },
  {
   "cell_type": "code",
   "execution_count": 1,
   "metadata": {
    "colab": {},
    "colab_type": "code",
    "id": "3pIJ7pirsM-X"
   },
   "outputs": [],
   "source": [
    "using Printf\n",
    "using DelimitedFiles"
   ]
  },
  {
   "cell_type": "markdown",
   "metadata": {
    "colab_type": "text",
    "id": "z3MOL4Z3TMlq"
   },
   "source": [
    "## Configuration data struct"
   ]
  },
  {
   "cell_type": "code",
   "execution_count": 5,
   "metadata": {
    "colab": {},
    "colab_type": "code",
    "id": "gvxpa95evNI0"
   },
   "outputs": [
    {
     "data": {
      "text/plain": [
       "CaseConfig(0.0, 1.0, 100, 500, 0.01, UPWIND, 1.0)"
      ]
     },
     "execution_count": 5,
     "metadata": {},
     "output_type": "execute_result"
    }
   ],
   "source": [
    "@enum InterpolationType UPWIND LINEAR QUICK\n",
    "\n",
    "struct CaseConfig\n",
    "    MIN_X::Float64\n",
    "    MAX_X::Float64\n",
    "    NUM_X_CELLS::Int64\n",
    "    NUM_TIME_STEPS::Int64\n",
    "    TIME_STEPS_SIZE::Float64\n",
    "\n",
    "    VAR_INTERPOLATION_TYPE::InterpolationType\n",
    "\n",
    "    CONVECTION_VEL::Float64\n",
    "end\n",
    "\n",
    "# function SHOW_CONFIG(config::CaseConfig)\n",
    "#     println(\"MIN_X: \",config.MIN_X, \", MAX_X: \",config.MAX_X,\n",
    "#             \",\\nNUM_X_CELLS: \", config.NUM_X_CELLS, \", NUM_GHOST_CELLS: \", config.NUM_GHOST_CELLS,\n",
    "#             \",\\nNUM_RK_STEPS: \", config.NUM_RK_STEPS, \", NUM_TIME_STEPS: \", config.NUM_TIME_STEPS,\n",
    "#             \",\\nTIME_STEPS_SIZE: \", config.TIME_STEPS_SIZE, \", ADVECTION_VEL: \", config.ADVECTION_VEL)\n",
    "# end\n",
    "\n",
    "# function Base.show(io::IO, ::MIME\"text/plain\", config::CaseConfig)\n",
    "#     for fname in fieldnames(config)\n",
    "#         println(io, \"$fname = $getfield(config, $fname)\")\n",
    "#     end\n",
    "# end\n",
    "\n",
    "mycase = CaseConfig(0, 1, 100, 500, 0.01, UPWIND, 1.0)\n"
   ]
  },
  {
   "cell_type": "markdown",
   "metadata": {},
   "source": [
    "## Cell data struct / Mesh data struct "
   ]
  },
  {
   "cell_type": "code",
   "execution_count": 7,
   "metadata": {},
   "outputs": [],
   "source": [
    "mutable struct Cell\n",
    "    # 1 dimensional uniform cell data\n",
    "    CENTER_POS::Float64\n",
    "    WEST_FACE_POS::Float64\n",
    "    EAST_FACE_POS::Float64\n",
    "\n",
    "    CELL_SIZE::Float64\n",
    "    CELL_VAR::Array{Float64,1}\n",
    "\n",
    "    WEST_FACE_VAR::Float64\n",
    "    EAST_FACE_VAR::Float64\n",
    "\n",
    "    WEST_FACE_UNITNORM::Float64\n",
    "    EAST_FACE_UNITNORM::Float64\n",
    "\n",
    "    CELL_FLUX::Array{Float64,1}\n",
    "    \n",
    "    function Cell(config::CaseConfig, idx::Int64)\n",
    "        this = new()\n",
    "    \n",
    "        dx = (config.MAX_X - config.MIN_X) / config.NUM_X_CELLS\n",
    "        this.CELL_SIZE = dx\n",
    "    \n",
    "        this.CELL_VAR = zeros(config.NUM_RK_STEPS+1)\n",
    "        this.CELL_FLUX = zeros(config.NUM_RK_STEPS)\n",
    "    \n",
    "        this.CENTER_POS = config.MIN_X + dx*(idx - 0.5 - config.NUM_GHOST_CELLS)\n",
    "        this.WEST_FACE_POS = this.CENTER_POS - 0.5*this.CELL_SIZE\n",
    "        this.EAST_FACE_POS = this.CENTER_POS + 0.5*this.CELL_SIZE\n",
    "    \n",
    "        this.WEST_FACE_UNITNORM = -1.0\n",
    "        this.EAST_FACE_UNITNORM = 1.0\n",
    "    \n",
    "        return this\n",
    "    end\n",
    "    \n",
    "end\n",
    "\n",
    "\n",
    "mutable struct Mesh\n",
    "    # 1 dimensional mesh data\n",
    "    NUM_CELLS::Int64\n",
    "    CELL::Array{Cell,1}\n",
    "\n",
    "    function Mesh(config::CaseConfig)\n",
    "        this = new()\n",
    "        \n",
    "        this.NUM_CELLS = config.NUM_X_CELLS + config.NUM_GHOST_CELLS*2\n",
    "\n",
    "        this.CELL = Array{Cell,1}(undef, 0)\n",
    "\n",
    "        for idx = 1 : this.NUM_CELLS\n",
    "            push!( this.CELL, Cell(config, idx) )\n",
    "        end\n",
    "        return this\n",
    "    end\n",
    "end"
   ]
  },
  {
   "cell_type": "markdown",
   "metadata": {},
   "source": [
    "## Initializer struct"
   ]
  }
 ],
 "metadata": {
  "colab": {
   "collapsed_sections": [
    "q9KTpQXc-KK4",
    "7tvLba2d_jjz",
    "TWdlnJPPRO10",
    "dQ9nYOYkDswq",
    "TO4tg8kVT97Q",
    "FSF1eg7XUH2z",
    "6bSZvi2rV2bb",
    "b_RdfyB8ifxb"
   ],
   "name": "“Numerical Solutions of Partial Differential Equations.ipynb”的副本",
   "provenance": [
    {
     "file_id": "1lIJ6guEAH5NQObefYBJ7S_Jm21IlJSOo",
     "timestamp": 1557230572428
    }
   ],
   "version": "0.3.2"
  },
  "kernelspec": {
   "display_name": "Julia 1.4.1",
   "language": "julia",
   "name": "julia-1.4"
  },
  "language_info": {
   "file_extension": ".jl",
   "mimetype": "application/julia",
   "name": "julia",
   "version": "1.4.1"
  }
 },
 "nbformat": 4,
 "nbformat_minor": 4
}
