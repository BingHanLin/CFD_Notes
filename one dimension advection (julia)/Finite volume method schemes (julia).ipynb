{
 "cells": [
  {
   "cell_type": "markdown",
   "metadata": {},
   "source": [
    "## Interpolation Scheme and Flux Limiter"
   ]
  },
  {
   "cell_type": "markdown",
   "metadata": {},
   "source": [
    "### Interpolation Scheme"
   ]
  },
  {
   "cell_type": "markdown",
   "metadata": {},
   "source": [
    "https://projects.skill-lync.com/projects/FVM-Interpolation-Scheme-and-flux-limiter-65325"
   ]
  },
  {
   "cell_type": "markdown",
   "metadata": {},
   "source": [
    "https://projects.skill-lync.com/projects/FVM-Interpolation-and-Gradient-Schemes-literature-review-26860"
   ]
  },
  {
   "cell_type": "markdown",
   "metadata": {},
   "source": [
    "Evaluation of surface and volume integral usually required the value of variable at location **other than the computational node of control volume**. To obtain the unkown value at these loations, we need to apply interpolation schemes."
   ]
  },
  {
   "cell_type": "markdown",
   "metadata": {},
   "source": [
    "* Upwind Difference Scheme"
   ]
  },
  {
   "cell_type": "markdown",
   "metadata": {},
   "source": [
    "* Central Difference Scheme"
   ]
  },
  {
   "cell_type": "markdown",
   "metadata": {},
   "source": [
    "* Quadratic Upstream Interpolation Scheme (QUICK)"
   ]
  },
  {
   "cell_type": "markdown",
   "metadata": {},
   "source": [
    "### Gradient Scheme"
   ]
  },
  {
   "cell_type": "markdown",
   "metadata": {},
   "source": [
    "The gradient schemes are used to calculate **the variable gradient on the face**. We use variable from neighbouring control volume and numerically evaluate the variable gradient."
   ]
  },
  {
   "cell_type": "markdown",
   "metadata": {},
   "source": [
    "### Flux Limiter"
   ]
  },
  {
   "cell_type": "markdown",
   "metadata": {},
   "source": [
    "Total Variation Diminishing Scheme"
   ]
  },
  {
   "cell_type": "code",
   "execution_count": null,
   "metadata": {},
   "outputs": [],
   "source": [
    "@enum InterpolationType UPWIND LINEAR QUICK\n",
    "@enum TimeDiffernceScheme EXPLICIT IMPLICIT CRANKNICOLSON\n",
    "    \n",
    "mutable struct CaseConfig\n",
    "    MIN_X::Float64\n",
    "    MAX_X::Float64\n",
    "    NUM_X_CELLS::Int64\n",
    "    NUM_TIME_STEPS::Int64\n",
    "    TIME_STEPS_SIZE::Float64\n",
    "    CONVECTION_VEL::Float64\n",
    "    \n",
    "    VAR_INTERPOLATION_TYPE::InterpolationType\n",
    "#     TIME_MARCHING_TYPE::TimeMarchingType\n",
    "    NUM_GHOST_CELLS::Int64\n",
    "    NUM_RK_STEPS::Int64\n",
    "    \n",
    "    function CaseConfig(MIN_X::Float64, MAX_X::Float64, NUM_X_CELLS::Int64, NUM_TIME_STEPS::Int64, TIME_STEPS_SIZE::Float64, \n",
    "                        CONVECTION_VEL::Float64, VAR_INTERPOLATION_TYPE::InterpolationType, TIME_DIFFERENCE_SCHEME::TimeDiffernceScheme)\n",
    "        this = new()\n",
    "    \n",
    "        this.MIN_X = MIN_X\n",
    "        this.MAX_X = MAX_X\n",
    "        this.NUM_X_CELLS = NUM_X_CELLS\n",
    "        this.NUM_TIME_STEPS = NUM_TIME_STEPS\n",
    "        this.TIME_STEPS_SIZE = TIME_STEPS_SIZE\n",
    "        this.CONVECTION_VEL = CONVECTION_VEL\n",
    "\n",
    "        this.VAR_INTERPOLATION_TYPE = VAR_INTERPOLATION_TYPE\n",
    "        if this.VAR_INTERPOLATION_TYPE == UPWIND\n",
    "            this.NUM_GHOST_CELLS = 1\n",
    "        elseif this.VAR_INTERPOLATION_TYPE == LINEAR\n",
    "            this.NUM_GHOST_CELLS = 1\n",
    "        elseif this.VAR_INTERPOLATION_TYPE == QUICK\n",
    "            this.NUM_GHOST_CELLS = 2\n",
    "        end\n",
    "        \n",
    "#         this.TIME_MARCHING_TYPE = TIME_MARCHING_TYPE\n",
    "#         if this.TIME_MARCHING_TYPE == RK1\n",
    "            this.NUM_RK_STEPS = 1\n",
    "#         elseif this.TIME_MARCHING_TYPE == RK2\n",
    "#          this.NUM_RK_STEPS = 2\n",
    "#         elseif this.TIME_MARCHING_TYPE == RK4\n",
    "#             this.NUM_RK_STEPS = 3\n",
    "#         end\n",
    "    \n",
    "        return this\n",
    "    end\n",
    "    \n",
    "end\n",
    "\n",
    "function Base.show(io::IO, ::MIME\"text/plain\", config::CaseConfig)\n",
    "    for fname in fieldnames(typeof(config))\n",
    "        println(io, \"$fname = \",  getfield(config, fname))\n",
    "    end\n",
    "end\n",
    "\n"
   ]
  }
 ],
 "metadata": {
  "colab": {
   "collapsed_sections": [
    "q9KTpQXc-KK4",
    "7tvLba2d_jjz",
    "TWdlnJPPRO10",
    "dQ9nYOYkDswq",
    "TO4tg8kVT97Q",
    "FSF1eg7XUH2z",
    "6bSZvi2rV2bb",
    "b_RdfyB8ifxb"
   ],
   "name": "“Numerical Solutions of Partial Differential Equations.ipynb”的副本",
   "provenance": [
    {
     "file_id": "1lIJ6guEAH5NQObefYBJ7S_Jm21IlJSOo",
     "timestamp": 1557230572428
    }
   ],
   "version": "0.3.2"
  },
  "kernelspec": {
   "display_name": "Julia 1.4.1",
   "language": "julia",
   "name": "julia-1.4"
  },
  "language_info": {
   "file_extension": ".jl",
   "mimetype": "application/julia",
   "name": "julia",
   "version": "1.4.1"
  }
 },
 "nbformat": 4,
 "nbformat_minor": 4
}
