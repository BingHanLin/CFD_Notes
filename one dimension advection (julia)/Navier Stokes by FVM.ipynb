{
 "cells": [
  {
   "cell_type": "code",
   "execution_count": 1,
   "metadata": {},
   "outputs": [],
   "source": [
    "using Printf\n",
    "using DelimitedFiles"
   ]
  },
  {
   "cell_type": "code",
   "execution_count": 2,
   "metadata": {},
   "outputs": [],
   "source": [
    "@enum InterpolationType UPWIND LINEAR QUICK\n",
    "\n",
    "struct CaseConfig \n",
    "    LX::Float64\n",
    "    LY::Float64\n",
    "    \n",
    "    NUM_X_CELLS::Int64\n",
    "    NUM_Y_CELLS::Int64\n",
    "\n",
    "    NUM_GHOST_CELLS::Int64\n",
    "    NUM_RK_STEPS::Int64\n",
    "\n",
    "    NUM_TIME_STEPS::Int64\n",
    "    TIME_STEPS_SIZE::Float64\n",
    "end"
   ]
  },
  {
   "cell_type": "code",
   "execution_count": 7,
   "metadata": {},
   "outputs": [],
   "source": [
    "mutable struct Cell\n",
    "    CENTER_POS::Array{Float64,1}\n",
    "    WEST_FACE_POS::Array{Float64,1}\n",
    "    EAST_FACE_POS::Array{Float64,1}\n",
    "    NORTH_FACE_POS::Array{Float64,1}\n",
    "    SOUTH_FACE_POS::Array{Float64,1}\n",
    "\n",
    "    X_SIZE::Float64\n",
    "    Y_SIZE::Float64\n",
    "\n",
    "    CENTER_VAL::Array{Float64,1}\n",
    "    WEST_FACE_VAL::Float64\n",
    "    EAST_FACE_VAL::Float64\n",
    "    NORTH_FACE_VAL::Float64\n",
    "    SOUTH_FACE_VAL::Float64\n",
    "\n",
    "    WEST_FACE_UNITNORM::Array{Float64,1}\n",
    "    EAST_FACE_UNITNORM::Array{Float64,1}\n",
    "    NORTH_FACE_UNITNORM::Array{Float64,1}\n",
    "    SOUTH_FACE_UNITNORM::Array{Float64,1}\n",
    "\n",
    "    TOTAL_FLUX::Array{Float64,1}\n",
    "\n",
    "    function Cell(config::CaseConfig, i::Int64, j::Int64)\n",
    "        this = new()\n",
    "\n",
    "            this.X_SIZE = config.LX / config.NUM_X_CELLS\n",
    "            this.Y_SIZE = config.LY / config.NUM_Y_CELLS\n",
    "    \n",
    "#             this.CELL_VAR = zeros(config.NUM_RK_STEPS+1)\n",
    "#             this.TOTAL_FLUX = zeros(config.NUM_RK_STEPS)\n",
    "    \n",
    "            this.CENTER_POS = [ this.X_SIZE/2 + this.X_SIZE*i,\n",
    "                                this.Y_SIZE/2 + this.Y_SIZE*j]\n",
    "    \n",
    "        return this\n",
    "    end\n",
    "end\n",
    "\n",
    "\n",
    "mutable struct RecMesh2D\n",
    "    U_CELL::Array{Cell,2}\n",
    "    \n",
    "    function RecMesh2D(config::CaseConfig)\n",
    "        this = new()\n",
    "        \n",
    "#         this.U_CELL = Array{Cell,2}(undef, config.NUM_X_CELLS, \n",
    "#                                            config.NUM_Y_CELLS )\n",
    "    \n",
    "        this.U_CELL = [ Cell(config, i, j) for i = 1 : config.NUM_X_CELLS,\n",
    "                                               j = 1 : config.NUM_Y_CELLS ]\n",
    "    \n",
    "        return this\n",
    "    end\n",
    "end\n",
    "\n",
    "\n"
   ]
  },
  {
   "cell_type": "code",
   "execution_count": 11,
   "metadata": {},
   "outputs": [
    {
     "name": "stdout",
     "output_type": "stream",
     "text": [
      "[0.3, 0.3]\n"
     ]
    }
   ],
   "source": [
    "myconfig = CaseConfig(1, 1, 5, 5, 1, 1, 10, 0.01)\n",
    "mymesh = RecMesh2D(myconfig)\n",
    "\n",
    "println(mymesh.U_CELL[1].CENTER_POS)"
   ]
  },
  {
   "cell_type": "code",
   "execution_count": null,
   "metadata": {},
   "outputs": [],
   "source": []
  }
 ],
 "metadata": {
  "kernelspec": {
   "display_name": "Julia 1.0.0",
   "language": "julia",
   "name": "julia-1.0"
  },
  "language_info": {
   "file_extension": ".jl",
   "mimetype": "application/julia",
   "name": "julia",
   "version": "1.0.0"
  }
 },
 "nbformat": 4,
 "nbformat_minor": 2
}
